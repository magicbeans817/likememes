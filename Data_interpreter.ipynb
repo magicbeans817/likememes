{
 "cells": [
  {
   "cell_type": "markdown",
   "metadata": {},
   "source": [
    "# The data intepreter"
   ]
  },
  {
   "cell_type": "markdown",
   "metadata": {},
   "source": [
    "This Jupyter notebook will load and interpret our scraped data. These data contain information about games that digital platform Steam has to offer. We believe that gaming market becomes more and more significant part of economy, and according to that we should pay proportionate attention to it. We will mainly focus on inspecting distribution of release dates of these games throughout years and months. We will derive how much are numbers of released games growing across years and also in which months are games mostly released. We will put these numbers into context of sales, prices and ratings. This can help us to make general assumptions about evolution of quality of games. We will also focus on current sales, from which we will be able to see what kind of games are currently on sale. All this can provide us with deeper insight into functioning of gaming market in recent 20 or so years."
   ]
  },
  {
   "cell_type": "markdown",
   "metadata": {},
   "source": [
    "Firstly, we will import pandas package in order to load and save our data as pandas dataframe."
   ]
  },
  {
   "cell_type": "code",
   "execution_count": 87,
   "metadata": {},
   "outputs": [],
   "source": [
    "import pandas as pd"
   ]
  },
  {
   "cell_type": "markdown",
   "metadata": {},
   "source": [
    "Our data are ordered by share of positive reviews. Let's take a look at them:"
   ]
  },
  {
   "cell_type": "code",
   "execution_count": 143,
   "metadata": {},
   "outputs": [
    {
     "data": {
      "text/html": [
       "<div>\n",
       "<style scoped>\n",
       "    .dataframe tbody tr th:only-of-type {\n",
       "        vertical-align: middle;\n",
       "    }\n",
       "\n",
       "    .dataframe tbody tr th {\n",
       "        vertical-align: top;\n",
       "    }\n",
       "\n",
       "    .dataframe thead th {\n",
       "        text-align: right;\n",
       "    }\n",
       "</style>\n",
       "<table border=\"1\" class=\"dataframe\">\n",
       "  <thead>\n",
       "    <tr style=\"text-align: right;\">\n",
       "      <th></th>\n",
       "      <th>Title</th>\n",
       "      <th>Release date</th>\n",
       "      <th>Share of positive reviews (in %)</th>\n",
       "      <th>Total number of reviews</th>\n",
       "      <th>Normal price (€)</th>\n",
       "      <th>Discounted price if there is a sale (€)</th>\n",
       "      <th>Sale rate (in %)</th>\n",
       "    </tr>\n",
       "  </thead>\n",
       "  <tbody>\n",
       "    <tr>\n",
       "      <td>0</td>\n",
       "      <td>The Witcher 3: Wild Hunt - Expansion Pass</td>\n",
       "      <td>2015-05-19</td>\n",
       "      <td>99</td>\n",
       "      <td>3353</td>\n",
       "      <td>24.99</td>\n",
       "      <td>NaN</td>\n",
       "      <td>NaN</td>\n",
       "    </tr>\n",
       "    <tr>\n",
       "      <td>1</td>\n",
       "      <td>Senren＊Banka</td>\n",
       "      <td>2020-02-14</td>\n",
       "      <td>99</td>\n",
       "      <td>2864</td>\n",
       "      <td>29.99</td>\n",
       "      <td>NaN</td>\n",
       "      <td>NaN</td>\n",
       "    </tr>\n",
       "    <tr>\n",
       "      <td>2</td>\n",
       "      <td>A Short Hike</td>\n",
       "      <td>2019-07-30</td>\n",
       "      <td>99</td>\n",
       "      <td>2764</td>\n",
       "      <td>6.59</td>\n",
       "      <td>NaN</td>\n",
       "      <td>NaN</td>\n",
       "    </tr>\n",
       "    <tr>\n",
       "      <td>3</td>\n",
       "      <td>Aseprite</td>\n",
       "      <td>2016-02-22</td>\n",
       "      <td>99</td>\n",
       "      <td>2757</td>\n",
       "      <td>14.99</td>\n",
       "      <td>NaN</td>\n",
       "      <td>NaN</td>\n",
       "    </tr>\n",
       "    <tr>\n",
       "      <td>4</td>\n",
       "      <td>Doki Doki Literature Club Fan Pack</td>\n",
       "      <td>2017-09-22</td>\n",
       "      <td>99</td>\n",
       "      <td>1499</td>\n",
       "      <td>9.99</td>\n",
       "      <td>NaN</td>\n",
       "      <td>NaN</td>\n",
       "    </tr>\n",
       "    <tr>\n",
       "      <td>...</td>\n",
       "      <td>...</td>\n",
       "      <td>...</td>\n",
       "      <td>...</td>\n",
       "      <td>...</td>\n",
       "      <td>...</td>\n",
       "      <td>...</td>\n",
       "      <td>...</td>\n",
       "    </tr>\n",
       "    <tr>\n",
       "      <td>14981</td>\n",
       "      <td>Far Cry® 5 - Dead Living Zombies</td>\n",
       "      <td>2018-08-28</td>\n",
       "      <td>17</td>\n",
       "      <td>586</td>\n",
       "      <td>7.99</td>\n",
       "      <td>3.99</td>\n",
       "      <td>50.0</td>\n",
       "    </tr>\n",
       "    <tr>\n",
       "      <td>14982</td>\n",
       "      <td>Command &amp;amp; Conquer 4: Tiberian Twilight</td>\n",
       "      <td>2010-03-16</td>\n",
       "      <td>17</td>\n",
       "      <td>2342</td>\n",
       "      <td>19.99</td>\n",
       "      <td>NaN</td>\n",
       "      <td>NaN</td>\n",
       "    </tr>\n",
       "    <tr>\n",
       "      <td>14983</td>\n",
       "      <td>Tom Clancy's Ghost Recon® Wildlands - Narco Road</td>\n",
       "      <td>2017-04-25</td>\n",
       "      <td>16</td>\n",
       "      <td>501</td>\n",
       "      <td>14.99</td>\n",
       "      <td>NaN</td>\n",
       "      <td>NaN</td>\n",
       "    </tr>\n",
       "    <tr>\n",
       "      <td>14984</td>\n",
       "      <td>Airport Simulator 2014</td>\n",
       "      <td>2013-12-19</td>\n",
       "      <td>12</td>\n",
       "      <td>536</td>\n",
       "      <td>9.99</td>\n",
       "      <td>2.99</td>\n",
       "      <td>70.0</td>\n",
       "    </tr>\n",
       "    <tr>\n",
       "      <td>14985</td>\n",
       "      <td>Flatout 3: Chaos &amp;amp; Destruction</td>\n",
       "      <td>2011-12-13</td>\n",
       "      <td>12</td>\n",
       "      <td>2003</td>\n",
       "      <td>9.99</td>\n",
       "      <td>NaN</td>\n",
       "      <td>NaN</td>\n",
       "    </tr>\n",
       "  </tbody>\n",
       "</table>\n",
       "<p>14986 rows × 7 columns</p>\n",
       "</div>"
      ],
      "text/plain": [
       "                                                  Title Release date  \\\n",
       "0             The Witcher 3: Wild Hunt - Expansion Pass   2015-05-19   \n",
       "1                                          Senren＊Banka   2020-02-14   \n",
       "2                                          A Short Hike   2019-07-30   \n",
       "3                                              Aseprite   2016-02-22   \n",
       "4                    Doki Doki Literature Club Fan Pack   2017-09-22   \n",
       "...                                                 ...          ...   \n",
       "14981                  Far Cry® 5 - Dead Living Zombies   2018-08-28   \n",
       "14982        Command &amp; Conquer 4: Tiberian Twilight   2010-03-16   \n",
       "14983  Tom Clancy's Ghost Recon® Wildlands - Narco Road   2017-04-25   \n",
       "14984                            Airport Simulator 2014   2013-12-19   \n",
       "14985                Flatout 3: Chaos &amp; Destruction   2011-12-13   \n",
       "\n",
       "       Share of positive reviews (in %)  Total number of reviews  \\\n",
       "0                                    99                     3353   \n",
       "1                                    99                     2864   \n",
       "2                                    99                     2764   \n",
       "3                                    99                     2757   \n",
       "4                                    99                     1499   \n",
       "...                                 ...                      ...   \n",
       "14981                                17                      586   \n",
       "14982                                17                     2342   \n",
       "14983                                16                      501   \n",
       "14984                                12                      536   \n",
       "14985                                12                     2003   \n",
       "\n",
       "       Normal price (€)  Discounted price if there is a sale (€)  \\\n",
       "0                 24.99                                      NaN   \n",
       "1                 29.99                                      NaN   \n",
       "2                  6.59                                      NaN   \n",
       "3                 14.99                                      NaN   \n",
       "4                  9.99                                      NaN   \n",
       "...                 ...                                      ...   \n",
       "14981              7.99                                     3.99   \n",
       "14982             19.99                                      NaN   \n",
       "14983             14.99                                      NaN   \n",
       "14984              9.99                                     2.99   \n",
       "14985              9.99                                      NaN   \n",
       "\n",
       "       Sale rate (in %)  \n",
       "0                   NaN  \n",
       "1                   NaN  \n",
       "2                   NaN  \n",
       "3                   NaN  \n",
       "4                   NaN  \n",
       "...                 ...  \n",
       "14981              50.0  \n",
       "14982               NaN  \n",
       "14983               NaN  \n",
       "14984              70.0  \n",
       "14985               NaN  \n",
       "\n",
       "[14986 rows x 7 columns]"
      ]
     },
     "execution_count": 143,
     "metadata": {},
     "output_type": "execute_result"
    }
   ],
   "source": [
    "data = pd.read_csv('steam_global_sellers_by_reviews', index_col = 0)\n",
    "data"
   ]
  },
  {
   "cell_type": "markdown",
   "metadata": {},
   "source": [
    "Now we will import necessary tools for data processing:"
   ]
  },
  {
   "cell_type": "code",
   "execution_count": 144,
   "metadata": {},
   "outputs": [],
   "source": [
    "import requests\n",
    "from bs4 import BeautifulSoup\n",
    "from time import sleep\n",
    "from tqdm import tqdm\n",
    "import numpy as np\n",
    "import pandas as pd\n",
    "import numpy as np\n",
    "import matplotlib.pyplot as plt\n",
    "from datetime import datetime"
   ]
  },
  {
   "cell_type": "code",
   "execution_count": 155,
   "metadata": {},
   "outputs": [
    {
     "ename": "AttributeError",
     "evalue": "'Summary' object has no attribute 'hist_price'",
     "output_type": "error",
     "traceback": [
      "\u001b[1;31m---------------------------------------------------------------------------\u001b[0m",
      "\u001b[1;31mAttributeError\u001b[0m                            Traceback (most recent call last)",
      "\u001b[1;32m<ipython-input-155-27d862753baa>\u001b[0m in \u001b[0;36m<module>\u001b[1;34m\u001b[0m\n\u001b[0;32m      1\u001b[0m \u001b[1;32mfrom\u001b[0m \u001b[0mData_processor_py\u001b[0m \u001b[1;32mimport\u001b[0m \u001b[0mSummary\u001b[0m\u001b[1;33m\u001b[0m\u001b[1;33m\u001b[0m\u001b[0m\n\u001b[0;32m      2\u001b[0m \u001b[0mxx\u001b[0m \u001b[1;33m=\u001b[0m \u001b[0mSummary\u001b[0m\u001b[1;33m(\u001b[0m\u001b[0mdata\u001b[0m\u001b[1;33m)\u001b[0m\u001b[1;33m\u001b[0m\u001b[1;33m\u001b[0m\u001b[0m\n\u001b[1;32m----> 3\u001b[1;33m \u001b[0mxx\u001b[0m\u001b[1;33m.\u001b[0m\u001b[0mhist_price\u001b[0m\u001b[1;33m(\u001b[0m\u001b[1;33m)\u001b[0m\u001b[1;33m\u001b[0m\u001b[1;33m\u001b[0m\u001b[0m\n\u001b[0m",
      "\u001b[1;31mAttributeError\u001b[0m: 'Summary' object has no attribute 'hist_price'"
     ]
    }
   ],
   "source": [
    "from Data_processor_py import Summary\n",
    "xx = Summary(data)\n",
    "xx.hist_price()"
   ]
  },
  {
   "cell_type": "code",
   "execution_count": 66,
   "metadata": {},
   "outputs": [
    {
     "ename": "SyntaxError",
     "evalue": "(unicode error) 'unicodeescape' codec can't decode bytes in position 2-3: truncated \\UXXXXXXXX escape (<ipython-input-66-c74b1153b5ce>, line 3)",
     "output_type": "error",
     "traceback": [
      "\u001b[1;36m  File \u001b[1;32m\"<ipython-input-66-c74b1153b5ce>\"\u001b[1;36m, line \u001b[1;32m3\u001b[0m\n\u001b[1;33m    sys.path.append('C:\\Users\\Honza\\Documents\\GitHub\\likememes')\u001b[0m\n\u001b[1;37m                   ^\u001b[0m\n\u001b[1;31mSyntaxError\u001b[0m\u001b[1;31m:\u001b[0m (unicode error) 'unicodeescape' codec can't decode bytes in position 2-3: truncated \\UXXXXXXXX escape\n"
     ]
    }
   ],
   "source": [
    "import os\n",
    "import sys\n",
    "sys.path.append('C:\\Users\\Honza\\Documents\\GitHub\\likememes')\n",
    "import Data_processor.ipynb"
   ]
  },
  {
   "cell_type": "code",
   "execution_count": null,
   "metadata": {},
   "outputs": [],
   "source": []
  }
 ],
 "metadata": {
  "kernelspec": {
   "display_name": "Python 3",
   "language": "python",
   "name": "python3"
  },
  "language_info": {
   "codemirror_mode": {
    "name": "ipython",
    "version": 3
   },
   "file_extension": ".py",
   "mimetype": "text/x-python",
   "name": "python",
   "nbconvert_exporter": "python",
   "pygments_lexer": "ipython3",
   "version": "3.7.4"
  }
 },
 "nbformat": 4,
 "nbformat_minor": 2
}
