{
 "cells": [
  {
   "cell_type": "markdown",
   "metadata": {},
   "source": [
    "# The data intepreter"
   ]
  },
  {
   "cell_type": "markdown",
   "metadata": {},
   "source": [
    "This Jupyter notebook will load and interpret our scraped data. These data contain information about games that digital platform Steam has to offer. We believe that gaming market becomes more and more significant part of economy, and according to that we should pay proportionate attention to it. We will mainly focus on inspecting distribution of release dates of these games throughout years and months. We will derive how much are numbers of released games growing across years and also in which months are games mostly released. We will put these numbers into context of sales, prices and ratings. This can help us to make general assumptions about evolution of quality of games. We will also focus on current sales, from which we will be able to see what kind of games are currently on sale. All this can provide us with deeper insight into functioning of gaming market in recent 20 or so years."
   ]
  },
  {
   "cell_type": "markdown",
   "metadata": {},
   "source": [
    "Firstly, we will import pandas package in order to load and save our data as pandas dataframe."
   ]
  },
  {
   "cell_type": "code",
   "execution_count": 25,
   "metadata": {},
   "outputs": [],
   "source": [
    "import pandas as pd"
   ]
  },
  {
   "cell_type": "markdown",
   "metadata": {},
   "source": [
    "Our data are ordered by share of positive reviews. Let's take a look at them:"
   ]
  },
  {
   "cell_type": "code",
   "execution_count": 26,
   "metadata": {},
   "outputs": [
    {
     "data": {
      "text/html": [
       "<div>\n",
       "<style scoped>\n",
       "    .dataframe tbody tr th:only-of-type {\n",
       "        vertical-align: middle;\n",
       "    }\n",
       "\n",
       "    .dataframe tbody tr th {\n",
       "        vertical-align: top;\n",
       "    }\n",
       "\n",
       "    .dataframe thead th {\n",
       "        text-align: right;\n",
       "    }\n",
       "</style>\n",
       "<table border=\"1\" class=\"dataframe\">\n",
       "  <thead>\n",
       "    <tr style=\"text-align: right;\">\n",
       "      <th></th>\n",
       "      <th>Title</th>\n",
       "      <th>Release date</th>\n",
       "      <th>Share of positive reviews (in %)</th>\n",
       "      <th>Total number of reviews</th>\n",
       "      <th>Normal price (€)</th>\n",
       "      <th>Discounted price if there is a sale (€)</th>\n",
       "      <th>Sale rate (in %)</th>\n",
       "    </tr>\n",
       "  </thead>\n",
       "  <tbody>\n",
       "    <tr>\n",
       "      <td>0</td>\n",
       "      <td>The Witcher 3: Wild Hunt - Expansion Pass</td>\n",
       "      <td>2015-05-19</td>\n",
       "      <td>99</td>\n",
       "      <td>3357</td>\n",
       "      <td>24.99</td>\n",
       "      <td>NaN</td>\n",
       "      <td>NaN</td>\n",
       "    </tr>\n",
       "    <tr>\n",
       "      <td>1</td>\n",
       "      <td>Senren＊Banka</td>\n",
       "      <td>2020-02-14</td>\n",
       "      <td>99</td>\n",
       "      <td>2878</td>\n",
       "      <td>29.99</td>\n",
       "      <td>NaN</td>\n",
       "      <td>NaN</td>\n",
       "    </tr>\n",
       "    <tr>\n",
       "      <td>2</td>\n",
       "      <td>A Short Hike</td>\n",
       "      <td>2019-07-30</td>\n",
       "      <td>99</td>\n",
       "      <td>2776</td>\n",
       "      <td>6.59</td>\n",
       "      <td>NaN</td>\n",
       "      <td>NaN</td>\n",
       "    </tr>\n",
       "    <tr>\n",
       "      <td>3</td>\n",
       "      <td>Aseprite</td>\n",
       "      <td>2016-02-22</td>\n",
       "      <td>99</td>\n",
       "      <td>2768</td>\n",
       "      <td>14.99</td>\n",
       "      <td>NaN</td>\n",
       "      <td>NaN</td>\n",
       "    </tr>\n",
       "    <tr>\n",
       "      <td>4</td>\n",
       "      <td>Doki Doki Literature Club Fan Pack</td>\n",
       "      <td>2017-09-22</td>\n",
       "      <td>99</td>\n",
       "      <td>1499</td>\n",
       "      <td>9.99</td>\n",
       "      <td>NaN</td>\n",
       "      <td>NaN</td>\n",
       "    </tr>\n",
       "    <tr>\n",
       "      <td>...</td>\n",
       "      <td>...</td>\n",
       "      <td>...</td>\n",
       "      <td>...</td>\n",
       "      <td>...</td>\n",
       "      <td>...</td>\n",
       "      <td>...</td>\n",
       "      <td>...</td>\n",
       "    </tr>\n",
       "    <tr>\n",
       "      <td>14525</td>\n",
       "      <td>Men of War: Assault Squad 2 - Cold War</td>\n",
       "      <td>2019-09-12</td>\n",
       "      <td>17</td>\n",
       "      <td>540</td>\n",
       "      <td>21.99</td>\n",
       "      <td>NaN</td>\n",
       "      <td>NaN</td>\n",
       "    </tr>\n",
       "    <tr>\n",
       "      <td>14526</td>\n",
       "      <td>Far Cry® 5 - Dead Living Zombies</td>\n",
       "      <td>2018-08-28</td>\n",
       "      <td>17</td>\n",
       "      <td>588</td>\n",
       "      <td>7.99</td>\n",
       "      <td>3.99</td>\n",
       "      <td>50.0</td>\n",
       "    </tr>\n",
       "    <tr>\n",
       "      <td>14527</td>\n",
       "      <td>Command &amp;amp; Conquer 4: Tiberian Twilight</td>\n",
       "      <td>2010-03-16</td>\n",
       "      <td>17</td>\n",
       "      <td>2345</td>\n",
       "      <td>19.99</td>\n",
       "      <td>NaN</td>\n",
       "      <td>NaN</td>\n",
       "    </tr>\n",
       "    <tr>\n",
       "      <td>14528</td>\n",
       "      <td>Airport Simulator 2014</td>\n",
       "      <td>2013-12-19</td>\n",
       "      <td>12</td>\n",
       "      <td>536</td>\n",
       "      <td>9.99</td>\n",
       "      <td>2.99</td>\n",
       "      <td>70.0</td>\n",
       "    </tr>\n",
       "    <tr>\n",
       "      <td>14529</td>\n",
       "      <td>Flatout 3: Chaos &amp;amp; Destruction</td>\n",
       "      <td>2011-12-13</td>\n",
       "      <td>12</td>\n",
       "      <td>2005</td>\n",
       "      <td>9.99</td>\n",
       "      <td>NaN</td>\n",
       "      <td>NaN</td>\n",
       "    </tr>\n",
       "  </tbody>\n",
       "</table>\n",
       "<p>14530 rows × 7 columns</p>\n",
       "</div>"
      ],
      "text/plain": [
       "                                            Title Release date  \\\n",
       "0       The Witcher 3: Wild Hunt - Expansion Pass   2015-05-19   \n",
       "1                                    Senren＊Banka   2020-02-14   \n",
       "2                                    A Short Hike   2019-07-30   \n",
       "3                                        Aseprite   2016-02-22   \n",
       "4              Doki Doki Literature Club Fan Pack   2017-09-22   \n",
       "...                                           ...          ...   \n",
       "14525      Men of War: Assault Squad 2 - Cold War   2019-09-12   \n",
       "14526            Far Cry® 5 - Dead Living Zombies   2018-08-28   \n",
       "14527  Command &amp; Conquer 4: Tiberian Twilight   2010-03-16   \n",
       "14528                      Airport Simulator 2014   2013-12-19   \n",
       "14529          Flatout 3: Chaos &amp; Destruction   2011-12-13   \n",
       "\n",
       "       Share of positive reviews (in %)  Total number of reviews  \\\n",
       "0                                    99                     3357   \n",
       "1                                    99                     2878   \n",
       "2                                    99                     2776   \n",
       "3                                    99                     2768   \n",
       "4                                    99                     1499   \n",
       "...                                 ...                      ...   \n",
       "14525                                17                      540   \n",
       "14526                                17                      588   \n",
       "14527                                17                     2345   \n",
       "14528                                12                      536   \n",
       "14529                                12                     2005   \n",
       "\n",
       "       Normal price (€)  Discounted price if there is a sale (€)  \\\n",
       "0                 24.99                                      NaN   \n",
       "1                 29.99                                      NaN   \n",
       "2                  6.59                                      NaN   \n",
       "3                 14.99                                      NaN   \n",
       "4                  9.99                                      NaN   \n",
       "...                 ...                                      ...   \n",
       "14525             21.99                                      NaN   \n",
       "14526              7.99                                     3.99   \n",
       "14527             19.99                                      NaN   \n",
       "14528              9.99                                     2.99   \n",
       "14529              9.99                                      NaN   \n",
       "\n",
       "       Sale rate (in %)  \n",
       "0                   NaN  \n",
       "1                   NaN  \n",
       "2                   NaN  \n",
       "3                   NaN  \n",
       "4                   NaN  \n",
       "...                 ...  \n",
       "14525               NaN  \n",
       "14526              50.0  \n",
       "14527               NaN  \n",
       "14528              70.0  \n",
       "14529               NaN  \n",
       "\n",
       "[14530 rows x 7 columns]"
      ]
     },
     "execution_count": 26,
     "metadata": {},
     "output_type": "execute_result"
    }
   ],
   "source": [
    "data = pd.read_csv('steam_global_sellers_by_reviews',  index_col = 0, parse_dates=[\"Release date\"],date_parser=lambda x: pd.to_datetime(x, format='%Y-%m-%d'))\n",
    "data"
   ]
  },
  {
   "cell_type": "markdown",
   "metadata": {},
   "source": [
    "Now we will import necessary tools for data processing:"
   ]
  },
  {
   "cell_type": "code",
   "execution_count": 27,
   "metadata": {},
   "outputs": [],
   "source": [
    "import requests\n",
    "from bs4 import BeautifulSoup\n",
    "from time import sleep\n",
    "from tqdm import tqdm\n",
    "import numpy as np\n",
    "import pandas as pd\n",
    "import numpy as np\n",
    "import matplotlib.pyplot as plt\n",
    "from datetime import datetime"
   ]
  },
  {
   "cell_type": "markdown",
   "metadata": {},
   "source": [
    "We will start by introduction to our data and basic evaluation. In order to do that we will import class \"Summary\" from our Data processor. We begin by using attribute for the most basic summarization of price/sale variables in the data."
   ]
  },
  {
   "cell_type": "code",
   "execution_count": 30,
   "metadata": {},
   "outputs": [
    {
     "name": "stdout",
     "output_type": "stream",
     "text": [
      "Basic summary: \n",
      "The number of items on sale from the first 582 pages is 1866.\n",
      "The mean discount is 54.79%.\n",
      "The average price before sale is 20.1€, with the average price after sale being 9.22€.\n",
      "The average number of reviews on a game from the first 582 pages is 4364.1.\n"
     ]
    },
    {
     "data": {
      "text/plain": [
       "{None}"
      ]
     },
     "execution_count": 30,
     "metadata": {},
     "output_type": "execute_result"
    }
   ],
   "source": [
    "from Data_processor import Summary\n",
    "dfs = Summary(data)\n",
    "dfs.basic_summary()"
   ]
  },
  {
   "cell_type": "markdown",
   "metadata": {},
   "source": [
    "## Prices"
   ]
  },
  {
   "cell_type": "markdown",
   "metadata": {},
   "source": [
    "This provides us with very limited view. However, we can take a look at histogram of prices. Distribution of prices before discount tells us only that normally, games mostly cost under 22€. On the other hand, histogram of discounted prices seems similar to Poisson distribution. Also, both histograms seem roughly similar and from their lefs-side we can see, that most frequent games are from price level of below 3€."
   ]
  },
  {
   "cell_type": "code",
   "execution_count": 31,
   "metadata": {},
   "outputs": [
    {
     "name": "stdout",
     "output_type": "stream",
     "text": [
      "\n"
     ]
    },
    {
     "data": {
      "image/png": "[encoded data removed]",
      "text/plain": [
       "<Figure size 1080x360 with 1 Axes>"
      ]
     },
     "metadata": {
      "needs_background": "light"
     },
     "output_type": "display_data"
    },
    {
     "data": {
      "text/plain": [
       "(None, None)"
      ]
     },
     "execution_count": 31,
     "metadata": {},
     "output_type": "execute_result"
    }
   ],
   "source": [
    "dfs.price_hist()"
   ]
  },
  {
   "cell_type": "markdown",
   "metadata": {},
   "source": [
    "## Dates of release - years and months"
   ]
  },
  {
   "cell_type": "markdown",
   "metadata": {},
   "source": [
    "Let's focus for now on release dates of the games. It is reasonable to assume that numbers of released games are growing each year. If we take a look at graph of Number of games released by Year, it might seem that the pace of releasing new games has become quite stable since 2013. Here it is important to point out that in our dataset DLC bundles and alone DLCs are not distinguished from regular games, because not all DLCs are marked as DLCs and it would require closer manual inspection of every individual observation in order to distinguish it. We assume that number of released DLCs has become inproportionately higher to number of released games in last fifteen or so years. All this leads us to conclusion that our histogram is in fact rather flatter than depicted."
   ]
  },
  {
   "cell_type": "code",
   "execution_count": 32,
   "metadata": {
    "scrolled": true
   },
   "outputs": [
    {
     "name": "stdout",
     "output_type": "stream",
     "text": [
      "\n"
     ]
    },
    {
     "data": {
      "image/png": "[encoded data removed]",
      "text/plain": [
       "<Figure size 1080x360 with 1 Axes>"
      ]
     },
     "metadata": {
      "needs_background": "light"
     },
     "output_type": "display_data"
    },
    {
     "data": {
      "text/plain": [
       "(None, None)"
      ]
     },
     "execution_count": 32,
     "metadata": {},
     "output_type": "execute_result"
    }
   ],
   "source": [
    "dfs.release_hist_total_year()"
   ]
  },
  {
   "cell_type": "markdown",
   "metadata": {},
   "source": [
    "We can also look at games on sale in context of release year. As we can see, the graph below more or less copies the graph above, which we do not consider quite surprising."
   ]
  },
  {
   "cell_type": "code",
   "execution_count": 33,
   "metadata": {},
   "outputs": [
    {
     "name": "stdout",
     "output_type": "stream",
     "text": [
      "\n"
     ]
    },
    {
     "data": {
      "image/png": "[encoded data removed]",
      "text/plain": [
       "<Figure size 1080x360 with 1 Axes>"
      ]
     },
     "metadata": {
      "needs_background": "light"
     },
     "output_type": "display_data"
    },
    {
     "data": {
      "text/plain": [
       "(None, None)"
      ]
     },
     "execution_count": 33,
     "metadata": {},
     "output_type": "execute_result"
    }
   ],
   "source": [
    "dfs.release_hist_sale_year()"
   ]
  },
  {
   "cell_type": "markdown",
   "metadata": {},
   "source": [
    "Up until now, we focused in perspective of time on years only. We created analogical histograms for months (graphs below). Numbers of released games by months make sense as both most (in)famous Steam sales (Christmas sale and Steam Summer sale) fit perfectly into an increase in months before Christmas and then another increase again after six months. Both plummets come right after these sales. That makes sense, as in those times consumers are saturated with games and are less likely to buy. The second one follows the first one's shape, which shows that the month of release does not have a major impact on whether the game will be discounted or not."
   ]
  },
  {
   "cell_type": "code",
   "execution_count": 34,
   "metadata": {},
   "outputs": [
    {
     "name": "stdout",
     "output_type": "stream",
     "text": [
      "\n"
     ]
    },
    {
     "data": {
      "image/png": "[encoded data removed]",
      "text/plain": [
       "<Figure size 1080x360 with 1 Axes>"
      ]
     },
     "metadata": {
      "needs_background": "light"
     },
     "output_type": "display_data"
    },
    {
     "name": "stdout",
     "output_type": "stream",
     "text": [
      "\n"
     ]
    },
    {
     "data": {
      "image/png": "[encoded data removed]",
      "text/plain": [
       "<Figure size 1080x360 with 1 Axes>"
      ]
     },
     "metadata": {
      "needs_background": "light"
     },
     "output_type": "display_data"
    },
    {
     "data": {
      "text/plain": [
       "(None, None)"
      ]
     },
     "execution_count": 34,
     "metadata": {},
     "output_type": "execute_result"
    }
   ],
   "source": [
    "dfs.release_hist_total_month()\n",
    "dfs.release_hist_sale_month()"
   ]
  },
  {
   "cell_type": "markdown",
   "metadata": {},
   "source": [
    "New information can be provided to us by seeing frequency of game release in context of both years and months at the same time. In graph below 10 colors stand for years 2010 to 2019 and each of 12 segments stands for one month. We decided to exclude 2020 due to the fact that this year is not over and in given current global circumstances, it is special. Also, we excluded years up to 2010, as we are interested in recent history, when gaming digital platforms became mainstream."
   ]
  },
  {
   "cell_type": "markdown",
   "metadata": {},
   "source": [
    "This histograms only confirms all previous histograms. We can see that especially the increases in recent years are ever more rapid than ever. As more and more people use the services of digital platforms due to their accessibility, more and more game developers see this as an opportunity for profit. In contrast with that, January and summer months behave in the opposite way."
   ]
  },
  {
   "cell_type": "code",
   "execution_count": 35,
   "metadata": {},
   "outputs": [
    {
     "name": "stdout",
     "output_type": "stream",
     "text": [
      "\n"
     ]
    },
    {
     "data": {
      "image/png": "[encoded data removed]",
      "text/plain": [
       "<Figure size 1080x360 with 1 Axes>"
      ]
     },
     "metadata": {
      "needs_background": "light"
     },
     "output_type": "display_data"
    },
    {
     "data": {
      "text/plain": [
       "(None, None)"
      ]
     },
     "execution_count": 35,
     "metadata": {},
     "output_type": "execute_result"
    }
   ],
   "source": [
    "dfs.release_multiple_hist()"
   ]
  },
  {
   "cell_type": "markdown",
   "metadata": {},
   "source": [
    "Now, we will import another class from our Data processor. \"Summary_time\" gives us the data which our previous graphs were based on as pandas dataframe. In addition, it provides us with some new information about game quality. While critics can provide deeper insight into evaluation of game quality, we believe that game quality is truly reflected in its ratings by consumers."
   ]
  },
  {
   "cell_type": "code",
   "execution_count": 36,
   "metadata": {},
   "outputs": [
    {
     "ename": "ModuleNotFoundError",
     "evalue": "No module named 'Data_processor_py'",
     "output_type": "error",
     "traceback": [
      "\u001b[1;31m---------------------------------------------------------------------------\u001b[0m",
      "\u001b[1;31mModuleNotFoundError\u001b[0m                       Traceback (most recent call last)",
      "\u001b[1;32m<ipython-input-36-774ed4768710>\u001b[0m in \u001b[0;36m<module>\u001b[1;34m\u001b[0m\n\u001b[1;32m----> 1\u001b[1;33m \u001b[1;32mfrom\u001b[0m \u001b[0mData_processor_py\u001b[0m \u001b[1;32mimport\u001b[0m \u001b[0mSummary_time\u001b[0m\u001b[1;33m\u001b[0m\u001b[1;33m\u001b[0m\u001b[0m\n\u001b[0m\u001b[0;32m      2\u001b[0m \u001b[0mdfst\u001b[0m \u001b[1;33m=\u001b[0m \u001b[0mSummary_time\u001b[0m\u001b[1;33m(\u001b[0m\u001b[0mdata\u001b[0m\u001b[1;33m)\u001b[0m\u001b[1;33m\u001b[0m\u001b[1;33m\u001b[0m\u001b[0m\n",
      "\u001b[1;31mModuleNotFoundError\u001b[0m: No module named 'Data_processor_py'"
     ]
    }
   ],
   "source": [
    "from Data_processor import Summary_time\n",
    "dfst = Summary_time(data)"
   ]
  },
  {
   "cell_type": "markdown",
   "metadata": {},
   "source": [
    "We will now for a moment delve deeper into ratings and quality, despite that they will be our main topics later. Average game ratings throughout years can provides us with information about change in overall quality of released games. If we focus on years since 2006 (up to 2006 there is not enough games in offer to make even general conclusions) we can see that quality of released games has slightly decreased and from 2009 is quite stable. We believe that this degree can be attributed to survivorship bias, as lower quality games from this era did not even make it to Steam offer retrospectively. Thus, average quality of games due to these years is higher. Also (but this might be more 1990s thing than 2000s) it is possible that due to lower amount of consumers on the market, released games needed to have higher quality in order to become successful."
   ]
  },
  {
   "cell_type": "markdown",
   "metadata": {},
   "source": [
    "We can as well notice that rate of average discount is lower in recent years."
   ]
  },
  {
   "cell_type": "code",
   "execution_count": null,
   "metadata": {},
   "outputs": [],
   "source": [
    "dfst.release_tab_year()\n",
    "dfst.average_rating_year()"
   ]
  },
  {
   "cell_type": "markdown",
   "metadata": {},
   "source": [
    "We can check the same table ordered by months of release. As expected, in our variables are no significant swings except for number games, where again we can see the impact Steam Christmas and Summer sales."
   ]
  },
  {
   "cell_type": "code",
   "execution_count": null,
   "metadata": {},
   "outputs": [],
   "source": [
    "dfst.release_tab_month()"
   ]
  },
  {
   "cell_type": "markdown",
   "metadata": {},
   "source": [
    "## Game ratings, reviews and quality"
   ]
  },
  {
   "cell_type": "markdown",
   "metadata": {},
   "source": [
    "While evolution of gaming market and games during time is interesting, let's shift our focus to game quality. For that we import yet another class. \"Summary ratings\" class contains data evaluating attributes revolving around game ratings."
   ]
  },
  {
   "cell_type": "code",
   "execution_count": null,
   "metadata": {},
   "outputs": [],
   "source": [
    "from Data_processor_py import Summary_ratings\n",
    "dfsr = Summary_ratings(data)"
   ]
  },
  {
   "cell_type": "markdown",
   "metadata": {},
   "source": [
    "The summary for each rating is shown in the table bellow, however we will be showing some of the more important trends in following graphs."
   ]
  },
  {
   "cell_type": "code",
   "execution_count": 37,
   "metadata": {},
   "outputs": [
    {
     "ename": "NameError",
     "evalue": "name 'dfsr' is not defined",
     "output_type": "error",
     "traceback": [
      "\u001b[1;31m---------------------------------------------------------------------------\u001b[0m",
      "\u001b[1;31mNameError\u001b[0m                                 Traceback (most recent call last)",
      "\u001b[1;32m<ipython-input-37-73a093a6e4dc>\u001b[0m in \u001b[0;36m<module>\u001b[1;34m\u001b[0m\n\u001b[1;32m----> 1\u001b[1;33m \u001b[0mdfsr\u001b[0m\u001b[1;33m.\u001b[0m\u001b[0msummary_table\u001b[0m\u001b[1;33m(\u001b[0m\u001b[1;33m)\u001b[0m\u001b[1;33m\u001b[0m\u001b[1;33m\u001b[0m\u001b[0m\n\u001b[0m",
      "\u001b[1;31mNameError\u001b[0m: name 'dfsr' is not defined"
     ]
    }
   ],
   "source": [
    "dfsr.summary_table()"
   ]
  },
  {
   "cell_type": "markdown",
   "metadata": {},
   "source": [
    "Graph below shows ratio of games on sale based on their rating. We can see, that with increasing rating there is slightly decreasing trend. That makes sense, as in general high rated games tend to not need to be discounted in order to be sold. We can see that especially average and low rated games are discounted for the purpose of increasing profits in the long run. Also, on one hand can be quite surprising that lowest-rated games are not discounted at all. On the other hand, the reason for that might be that developers do not want to attract attention to the fact that this rubbish even exists."
   ]
  },
  {
   "cell_type": "code",
   "execution_count": 38,
   "metadata": {},
   "outputs": [
    {
     "ename": "NameError",
     "evalue": "name 'dfsr' is not defined",
     "output_type": "error",
     "traceback": [
      "\u001b[1;31m---------------------------------------------------------------------------\u001b[0m",
      "\u001b[1;31mNameError\u001b[0m                                 Traceback (most recent call last)",
      "\u001b[1;32m<ipython-input-38-d7d7b12c4835>\u001b[0m in \u001b[0;36m<module>\u001b[1;34m\u001b[0m\n\u001b[1;32m----> 1\u001b[1;33m \u001b[0mdfsr\u001b[0m\u001b[1;33m.\u001b[0m\u001b[0msale_ratio_hist\u001b[0m\u001b[1;33m(\u001b[0m\u001b[1;33m)\u001b[0m\u001b[1;33m\u001b[0m\u001b[1;33m\u001b[0m\u001b[0m\n\u001b[0m",
      "\u001b[1;31mNameError\u001b[0m: name 'dfsr' is not defined"
     ]
    }
   ],
   "source": [
    "dfsr.sale_ratio_hist()"
   ]
  },
  {
   "cell_type": "markdown",
   "metadata": {},
   "source": [
    "This and previous histogram perfectly fill each other. This histogram again shows with rising rate of positive reviews, average discount becomes lower, because \"better games sell themselves\"."
   ]
  },
  {
   "cell_type": "code",
   "execution_count": 39,
   "metadata": {},
   "outputs": [
    {
     "ename": "NameError",
     "evalue": "name 'dfsr' is not defined",
     "output_type": "error",
     "traceback": [
      "\u001b[1;31m---------------------------------------------------------------------------\u001b[0m",
      "\u001b[1;31mNameError\u001b[0m                                 Traceback (most recent call last)",
      "\u001b[1;32m<ipython-input-39-d8006ad95882>\u001b[0m in \u001b[0;36m<module>\u001b[1;34m\u001b[0m\n\u001b[1;32m----> 1\u001b[1;33m \u001b[0mdfsr\u001b[0m\u001b[1;33m.\u001b[0m\u001b[0maverage_discount_hist\u001b[0m\u001b[1;33m(\u001b[0m\u001b[1;33m)\u001b[0m\u001b[1;33m\u001b[0m\u001b[1;33m\u001b[0m\u001b[0m\n\u001b[0m",
      "\u001b[1;31mNameError\u001b[0m: name 'dfsr' is not defined"
     ]
    }
   ],
   "source": [
    "dfsr.average_discount_hist()"
   ]
  },
  {
   "cell_type": "markdown",
   "metadata": {},
   "source": [
    "To support the findings in the graph displaying the ratio of games on sale, the number of games per rating is shown bellow. The number of games per rating decreases once a high rating is reached but the data suggest there is a lot of games with a 100% share of positive reviews. This might be the result of these games being reviewed by only few users. Also, majority of games tend to be rated rather positively."
   ]
  },
  {
   "cell_type": "code",
   "execution_count": 40,
   "metadata": {},
   "outputs": [
    {
     "ename": "NameError",
     "evalue": "name 'dfsr' is not defined",
     "output_type": "error",
     "traceback": [
      "\u001b[1;31m---------------------------------------------------------------------------\u001b[0m",
      "\u001b[1;31mNameError\u001b[0m                                 Traceback (most recent call last)",
      "\u001b[1;32m<ipython-input-40-8ad1045c0feb>\u001b[0m in \u001b[0;36m<module>\u001b[1;34m\u001b[0m\n\u001b[1;32m----> 1\u001b[1;33m \u001b[0mdfsr\u001b[0m\u001b[1;33m.\u001b[0m\u001b[0mn_of_games\u001b[0m\u001b[1;33m(\u001b[0m\u001b[1;33m)\u001b[0m\u001b[1;33m\u001b[0m\u001b[1;33m\u001b[0m\u001b[0m\n\u001b[0m",
      "\u001b[1;31mNameError\u001b[0m: name 'dfsr' is not defined"
     ]
    }
   ],
   "source": [
    "dfsr.n_of_games()"
   ]
  },
  {
   "cell_type": "markdown",
   "metadata": {},
   "source": [
    "## Conclusion"
   ]
  },
  {
   "cell_type": "markdown",
   "metadata": {},
   "source": [
    "To sum up, we came to several points, which are all strongly related to Steam and overall gaming market. Firstly, release dates of games are heavily impacted by Steam Winter and Summer sales, which cause an increase and cooldown after. Also, whether a game is going to be or not to be on a sale is not strongly affected by year of its release. Secondly, overall quality of released games is probably more or less stable throughout the years. Thirdly, \"bad\" games tend to be discounted higher than \"good\" games. Last but not least, majority of games are positively accepted by gamer community and only a small fraction is disregarded.\n",
    "With the Coronavirus crisis, it seems that gaming rate among population is becoming higher due to restrictions and government recommendations globally. Only a few months ago, those sitting at home and playing games were considered lazy, now they are responsible. Given these circumstances, our findings and that Covid-19 is not going to disappear anytime soon, we think that this year autumn might be unprecedentedly profitable for digital gaming platforms."
   ]
  }
 ],
 "metadata": {
  "kernelspec": {
   "display_name": "Python 3",
   "language": "python",
   "name": "python3"
  },
  "language_info": {
   "codemirror_mode": {
    "name": "ipython",
    "version": 3
   },
   "file_extension": ".py",
   "mimetype": "text/x-python",
   "name": "python",
   "nbconvert_exporter": "python",
   "pygments_lexer": "ipython3",
   "version": "3.7.4"
  }
 },
 "nbformat": 4,
 "nbformat_minor": 4
}
