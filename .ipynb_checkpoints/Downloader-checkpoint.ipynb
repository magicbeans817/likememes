{
 "cells": [
  {
   "cell_type": "markdown",
   "metadata": {},
   "source": [
    "## Data Downloader"
   ]
  },
  {
   "cell_type": "markdown",
   "metadata": {},
   "source": [
    "This Jupyter notebook downloads data about globally top selling games from digital gaming platform Steam. These data contain title, release date and information about reviews and prices of individual games. Output of this Downloader is CSV file."
   ]
  },
  {
   "cell_type": "markdown",
   "metadata": {},
   "source": [
    "First, we download a few packages necessary for our downloader to be able to scrape data from Steam webpage, then other packages help us display raw data and pandas help us to create the dataframe."
   ]
  },
  {
   "cell_type": "code",
   "execution_count": 16,
   "metadata": {},
   "outputs": [],
   "source": [
    "from urllib.request import urlopen as uReq\n",
    "from bs4 import BeautifulSoup\n",
    "import pandas as pd\n",
    "from IPython.display import display, HTML\n",
    "import numpy as np\n",
    "import matplotlib.pyplot as plt\n",
    "from datetime import datetime"
   ]
  },
  {
   "cell_type": "markdown",
   "metadata": {},
   "source": [
    "We begin by creating a class, which we call 'Downloader'. Functions of few first attributes of this downloader come naturally from their names. Then we create attributes 'dataf', 'hoarder' and 'download_data'. As the list of games is too long for just one webpage, Steam saved it in more than 600 webpages in total. Thus, downloading our data works in following way, using  'download_data' attribute:\n",
    "- It begins by creating a list of urls of given number of pages (starting from the first one) using 'hoarder' attribute.\n",
    "- Then it uses 'dataf' attribute, which downloads HTML for every url in the list, applies first few attributes of class 'Downloader' and creates pandas dataframe of data for every given url.\n",
    "- Last, 'download_data' appends dataframe for every url to one large dataframe we want to end up with. It also assigns indexes to individual games."
   ]
  },
  {
   "cell_type": "code",
   "execution_count": 17,
   "metadata": {},
   "outputs": [],
   "source": [
    "#number of pages to scrape\n",
    "\n",
    "pages = 200\n",
    "\n",
    "class Downloader:\n",
    "    def __init__(self, link):\n",
    "        self.link = link\n",
    "        self.uClient = uReq(link)\n",
    "        self.page_html = self.uClient.read()\n",
    "        self.uClient.close()\n",
    "        self.soup = BeautifulSoup(self.page_html, \"lxml\")\n",
    "    \n",
    "    def get_titles(self):\n",
    "        td = self.soup.findAll('span', {\"class\":\"title\"})\n",
    "        titles = []\n",
    "        for ind in td:\n",
    "            # lstrip and rstrip remove symbols from sides, strip removes white spaces\n",
    "            titles.append(str(ind).lstrip('<span class=\"title\">').rstrip('span>').rstrip('</'))\n",
    "        return titles\n",
    "    \n",
    "    def get_release_dates(self):\n",
    "        td = self.soup.findAll('div', {\"class\":\"col search_released responsive_secondrow\"})\n",
    "        release_dates = []\n",
    "        for ind in td:\n",
    "            if ind.text != \"\":\n",
    "            # lstrip and rstrip remove symbols from sides, strip removes white spaces\n",
    "                release_dates.append(str(ind).rstrip('</div>').split(\">\")[-1])\n",
    "            else:\n",
    "                release_dates.append(None)\n",
    "        return release_dates\n",
    "    \n",
    "    def reviews(self):\n",
    "   \n",
    "        td = self.soup.findAll('span', {\"class\":\"search_review_summary positive\"})\n",
    "        reviews = []\n",
    "        for ind in td:\n",
    "            # lstrip and rstrip remove symbols from sides, strip removes white spaces\n",
    "            reviews.append(str(ind).split(\"html=\")[-1])\n",
    "        return reviews\n",
    "     \n",
    "    def get_share_positive_reviews(self):\n",
    "        text = self.reviews()\n",
    "        shares = []\n",
    "        for percent in text:\n",
    "            shares.append(percent.split(\"%\")[0].split(\"br&gt;\")[1])\n",
    "        return shares\n",
    "        \n",
    "    def get_number_user_reviews(self):  \n",
    "        text = self.reviews()\n",
    "        numbers = []\n",
    "        for number in text:\n",
    "            start = number.find(\"of the \") + len(\"of the \")\n",
    "            end = number.find(\" user reviews\")\n",
    "            numbers.append(number[start:end].replace(\",\",\"\"))\n",
    "        return numbers\n",
    "        \n",
    "    def get_prices(self):\n",
    "\n",
    "        td = self.soup.findAll('div', {\"class\":\"col search_price_discount_combined responsive_secondrow\"} or \n",
    "                          {\"class\":\"col search_price discounted responsive_secondrow\"})\n",
    "        prices = []\n",
    "        for ind in td:\n",
    "            if \"888888\" not in str(ind):\n",
    "                if (len(str(ind).split(\"\\r\\n\")[-1].split(\"</div>\\n</div>\")[0].strip()) <10):\n",
    "                    prices.append(str(ind).split(\"\\r\\n\")[-1].split(\"</div>\\n</div>\")[0].strip().replace(\"€\",\"\").replace(\",\",\".\").replace(\"-\",\"0\").replace(\"Free\",\"0\"))\n",
    "            \n",
    "                else:\n",
    "                    prices.append(None)\n",
    "            else:\n",
    "                start1 = str(ind).find(\"><strike>\") + len(\"><strike>\")\n",
    "                end1 = str(ind).find(\"</strike>\")\n",
    "                prices.append(str(ind)[start1:end1].replace(\"€\",\"\").replace(\",\",\".\").replace(\"-\",\"0\").replace(\"Free\",\"0\"))\n",
    "        return prices\n",
    "    \n",
    "    def get_price_after_sale(self):\n",
    "\n",
    "        td = self.soup.findAll('div', {\"class\":\"col search_price_discount_combined responsive_secondrow\"} or \n",
    "                          {\"class\":\"col search_price discounted responsive_secondrow\"})\n",
    "        sales = []\n",
    "        for ind in td:\n",
    "            if \"888888\" not in str(ind):\n",
    "                sales.append(None)\n",
    "            #elif (len(str(ind).split(\"\\r\\n\")[-1].split(\"</div>\\n</div>\")[0].strip()) >10):\n",
    "                #sales.append(0)\n",
    "            else:\n",
    "                sales.append(str(ind).split(\"br/>\")[-1].split(\"€\")[0].replace(\",\",\".\").replace(\"-\",\"0\").replace(\"Free\",\"0\").strip())\n",
    "        return sales\n",
    "    \n",
    "    def get_rate_of_sale(self):\n",
    "\n",
    "        td = self.soup.findAll('div', {\"class\":\"col search_price_discount_combined responsive_secondrow\"} or \n",
    "                          {\"class\":\"col search_price discounted responsive_secondrow\"})\n",
    "        percent = []\n",
    "        for ind in td:\n",
    "            if \"888888\" not in str(ind):\n",
    "                percent.append(None)\n",
    "            else:\n",
    "                start = str(ind).find(\">\\n<span>-\")+len(\">\\n<span>-\")\n",
    "                end = str(ind).find(\"%\")\n",
    "                percent.append(str(ind)[start:end])\n",
    "        return percent\n",
    "    \n",
    "    def dataf(self):\n",
    "        titles = self.get_titles()\n",
    "        dates = self.get_release_dates()\n",
    "        share_reviews = self.get_share_positive_reviews()\n",
    "        number_reviews = self.get_number_user_reviews()\n",
    "        normal_prices = self.get_prices()\n",
    "        sale_price = self.get_price_after_sale()\n",
    "        sale_rate = self.get_rate_of_sale()\n",
    "        \n",
    "        \n",
    "        self.data = pd.DataFrame({\n",
    "             'Title': pd.Series(titles),\n",
    "             'Release date': pd.to_datetime(pd.Series(dates),format='%d %b, %Y', errors = 'coerce'),\n",
    "             'Share of positive reviews (in %)': pd.to_numeric(share_reviews),\n",
    "             'Total number of reviews': pd.to_numeric(number_reviews),\n",
    "             'Normal price (€)': pd.to_numeric(normal_prices),\n",
    "             'Discounted price if there is a sale (€)': pd.to_numeric(sale_price),\n",
    "             'Sale rate (in %)': pd.to_numeric(sale_rate)})\n",
    "        return self.data\n",
    "   \n",
    "    def hoarder(self):\n",
    "        urls = []\n",
    "        #last_page = int(self.soup.findAll('a',{'class':\"search_result_row ds_collapse_flag  app_impression_tracked\"})[-1].find('a')['href'][-2:])\n",
    "        for i in range(pages):\n",
    "            urls.append(self.link + f\"&page={1+i}\")\n",
    "        return urls\n",
    "    \n",
    "    def download_data(self):\n",
    "        urls = self.hoarder()\n",
    "        Frame = pd.DataFrame()\n",
    "        for url in urls:\n",
    "            Frame = Frame.append(pd.DataFrame(data = Downloader(url).dataf()))\n",
    "        Frame.index = range(pages*25)\n",
    "        return Frame"
   ]
  },
  {
   "cell_type": "markdown",
   "metadata": {},
   "source": [
    "This is the link for Steam page of global top sellers ordered by reviews."
   ]
  },
  {
   "cell_type": "code",
   "execution_count": 18,
   "metadata": {},
   "outputs": [],
   "source": [
    "link = 'https://store.steampowered.com/search/?sort_by=Reviews_DESC&os=win&filter=globaltopsellers'"
   ]
  },
  {
   "cell_type": "markdown",
   "metadata": {},
   "source": [
    "# The Data"
   ]
  },
  {
   "cell_type": "markdown",
   "metadata": {},
   "source": [
    "First, we initialize the link in order to continue working with it. Next, we can apply the 'download_data' attribute and take a look at the craped data."
   ]
  },
  {
   "cell_type": "code",
   "execution_count": null,
   "metadata": {},
   "outputs": [],
   "source": [
    "first = Downloader(link)\n",
    "#first.download() # in order to explore page html in a reasonable way, one can use online javascript beautifier, available at:\n",
    "# beautifier.io\n",
    "df = first.download_data()\n",
    "df"
   ]
  },
  {
   "cell_type": "markdown",
   "metadata": {},
   "source": [
    "# Saving the data as CSV file"
   ]
  },
  {
   "cell_type": "markdown",
   "metadata": {},
   "source": [
    "Now we can save the data as CSV file."
   ]
  },
  {
   "cell_type": "code",
   "execution_count": 9,
   "metadata": {},
   "outputs": [],
   "source": [
    "df.to_csv('steam_global_sellers_by_reviews')"
   ]
  },
  {
   "cell_type": "code",
   "execution_count": null,
   "metadata": {},
   "outputs": [],
   "source": []
  }
 ],
 "metadata": {
  "kernelspec": {
   "display_name": "Python 3",
   "language": "python",
   "name": "python3"
  },
  "language_info": {
   "codemirror_mode": {
    "name": "ipython",
    "version": 3
   },
   "file_extension": ".py",
   "mimetype": "text/x-python",
   "name": "python",
   "nbconvert_exporter": "python",
   "pygments_lexer": "ipython3",
   "version": "3.7.4"
  }
 },
 "nbformat": 4,
 "nbformat_minor": 2
}
