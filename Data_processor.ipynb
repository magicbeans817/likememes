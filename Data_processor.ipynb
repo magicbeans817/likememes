{
 "cells": [
  {
   "cell_type": "markdown",
   "metadata": {},
   "source": [
    "Data processor:"
   ]
  },
  {
   "cell_type": "code",
   "execution_count": 1,
   "metadata": {},
   "outputs": [],
   "source": [
    "import pandas as pd\n",
    "import numpy as np\n",
    "import matplotlib.pyplot as plt\n",
    "from datetime import datetime"
   ]
  },
  {
   "cell_type": "code",
   "execution_count": 4,
   "metadata": {},
   "outputs": [],
   "source": [
    "class Summary:\n",
    "    \n",
    "    def __init__(self, data):\n",
    "        self.data = data\n",
    "        \n",
    "    def n_of_sales(self):\n",
    "        number = self.data.iloc[:,6].count()\n",
    "        return print(f'The number of items on sale from the first {pages} pages is {number}.')\n",
    "    \n",
    "    def mean_sale(self):\n",
    "        sales = [int(x) for x in self.data.iloc[:,6].dropna()]\n",
    "        return print(f'The mean discount is {round(np.mean(sales),2)}%.')\n",
    "    \n",
    "    def mean_price_of_sale(self):\n",
    "        new_price = np.array([x for x in self.data.iloc[:,5].dropna()]).astype(float)\n",
    "        discount = np.array([x for x in self.data.iloc[:,6].dropna()]).astype(float)\n",
    "        old_price = new_price/(1-(discount/100))\n",
    "        return print(f'The average price before sale is {round(np.mean(old_price),2)}€, with the average price after sale being {round(np.mean(new_price),2)}€.')\n",
    "    \n",
    "    def average_n_of_reviews(self):\n",
    "        mean_of_review = round(self.data.iloc[:,3].dropna().mean(),1)\n",
    "        return print(f'The average number of reviews on a game from the first {pages} pages is {mean_of_review}.')\n",
    "    \n",
    "    def price_hist(self):\n",
    "        new_price = np.array([x for x in self.data.iloc[:,5].dropna()]).astype(float)\n",
    "        discount = np.array([x for x in self.data.iloc[:,6].dropna()]).astype(float)\n",
    "        old_price = new_price/(1-(discount/100)) #original prices of items on sale\n",
    "        #all_prices = np.array([x[:-1].replace(',', '.').replace(\"-\",\"0\") for x in self.data.iloc[:,4].dropna()]).astype(float)\n",
    "        \n",
    "        #all_price_hist = pd.Series(all_prices).plot(kind=\"hist\",bins=20, alpha=0.8, figsize=(10,5),color=\"blue\", edgecolor = \"red\",linewidth=3, label=\"All prices\")\n",
    "        old_price_hist = pd.Series(old_price).plot(kind=\"hist\",bins=20, alpha=0.8, figsize=(10,5),color=\"green\", edgecolor = \"blue\",linewidth=3, label = \"Prices before discount\")\n",
    "        new_price_hist = pd.Series(new_price).plot(kind=\"hist\",bins=20, alpha=0.8, figsize=(10,5),color=\"orange\", edgecolor = \"green\",linewidth=3, label = \"Discounted Prices\")\n",
    "        \n",
    "        plt.legend()\n",
    "        plt.ylabel('Frequency', size='x-large')\n",
    "        plt.xlabel('$$$', size='x-large')\n",
    "        return plt.show()\n",
    "        \n",
    "    def release_hist(self):\n",
    "        release = self.data.iloc[:,1].dropna()\n",
    "        release.groupby(release.dt.year).count().plot(kind=\"bar\", width= 1,color=\"blue\", alpha=0.8, figsize=(10,5), edgecolor = \"red\",linewidth=3, label = \"Release date of items on sale\")\n",
    "        \n",
    "        plt.legend()\n",
    "        plt.ylabel('Frequency', size='x-large')\n",
    "        plt.xlabel('Release date (Year)', size='x-large')\n",
    "        return plt.show()\n",
    "    \n",
    "    def reviews(self):\n",
    "        sumation = df.groupby('Share of positive reviews (in %)')['Total number of reviews','Normal price (€)','Discounted price if there is a sale (€)'].sum()\n",
    "        sumation = sumation.rename(columns={'Discounted price if there is a sale (€)': 'Price after sale (€)'}).sort_index(ascending=False)  \n",
    "        \n",
    "        counted = df.groupby('Share of positive reviews (in %)')['Total number of reviews','Discounted price if there is a sale (€)'].count()\n",
    "        counted = counted.rename(columns={'Total number of reviews': 'Number of games', 'Discounted price if there is a sale (€)': 'Number of games on sale'}).sort_index(ascending=False)        \n",
    "        \n",
    "        means = df.groupby('Share of positive reviews (in %)')['Total number of reviews','Normal price (€)','Discounted price if there is a sale (€)','Sale rate (in %)'].mean()\n",
    "        means = means.rename(columns={'Total number of reviews': 'Number of reviews','Discounted price if there is a sale (€)' : 'Discounted price (€)'}).sort_index(ascending=False)  \n",
    "\n",
    "        return print(\"Number of the games for each rating: \"), print(display(counted)),print() ,print(\"Total number of the indicators for each score: \"), print(display(sumation)),print() ,print(\"Averages of the indicators for each rating: \"), print(display(means.round(1)))\n",
    "    \n",
    "    def release_multiple_hist(self):\n",
    "        rl = self.data.iloc[:,1].dropna().astype(\"datetime64\")\n",
    "        rl = rl[rl >= '2010-01-01']\n",
    "        rl = rl[rl <= '2020-01-01']\n",
    "        colors = np.array([\"lightgrey\", \"skyblue\", \"dodgerblue\",\n",
    "                           \"gold\",\"lightpink\",\"mediumorchid\", \"lightcoral\", \"limegreen\", \"indigo\", \"chocolate\"])\n",
    "        rl.groupby(by=[rl.dt.month, rl.dt.year]).count().plot(kind=\"bar\", width= 1,color = colors, alpha=0.8, figsize=(10,5),\n",
    "                                                              edgecolor = \"black\",linewidth=1,\n",
    "                                                              label = \"Release date of items on sale\").axes.xaxis.set_visible(False)\n",
    "        \n",
    "        plt.legend(['2010', '2011','2012','2013','2014','2015','2016','2017','2018','2019'])\n",
    "        plt.ylabel('Frequency', size='x-large')\n",
    "        plt.xlabel('Release date (by months and years)', size='x-large')\n",
    "        #rl.axes.xaxis.set_visible(False)\n",
    "        return plt.show()"
   ]
  },
  {
   "cell_type": "code",
   "execution_count": null,
   "metadata": {},
   "outputs": [],
   "source": []
  }
 ],
 "metadata": {
  "kernelspec": {
   "display_name": "Python 3",
   "language": "python",
   "name": "python3"
  },
  "language_info": {
   "codemirror_mode": {
    "name": "ipython",
    "version": 3
   },
   "file_extension": ".py",
   "mimetype": "text/x-python",
   "name": "python",
   "nbconvert_exporter": "python",
   "pygments_lexer": "ipython3",
   "version": "3.7.4"
  }
 },
 "nbformat": 4,
 "nbformat_minor": 2
}
